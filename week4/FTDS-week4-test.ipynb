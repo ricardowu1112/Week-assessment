{
 "cells": [
  {
   "cell_type": "code",
   "execution_count": 4,
   "id": "8e3d20dc",
   "metadata": {},
   "outputs": [
    {
     "data": {
      "text/plain": [
       "[['Xiqu Centre Car Park, West Kowloon Cultural District',\n",
       "  '西九文化區戲曲中心停車場',\n",
       "  '西九文化区戏曲中心停车场'],\n",
       " 'N/A',\n",
       " ['Art Park (Zone E) Car Park, West Kowloon Cultural District',\n",
       "  '西九藝術公園(E區)停車場',\n",
       "  '西九艺术公园(E区)停车场'],\n",
       " 2.1,\n",
       " ['Zone F Car Park, West Kowloon Cultural District',\n",
       "  '西九文化區F區停車場',\n",
       "  '西九文化区F区停车场'],\n",
       " 2.1]"
      ]
     },
     "execution_count": 4,
     "metadata": {},
     "output_type": "execute_result"
    }
   ],
   "source": [
    "import requests\n",
    "def CarParkInfo(n):\n",
    "    lista=[]\n",
    "    data=requests.get(n)\n",
    "    data=data.json()\n",
    "    for index in range(len(data['carParks'])):\n",
    "        lista.append(list(data['carParks'][index]['name'].values()))\n",
    "        lista.append((data['carParks'][index]['heightLimit']))\n",
    "    return lista\n",
    "CarParkInfo('https://openapi.westkowloon.hk/datagovhk/carpark')"
   ]
  },
  {
   "cell_type": "code",
   "execution_count": 6,
   "id": "b21e7905",
   "metadata": {},
   "outputs": [
    {
     "data": {
      "text/plain": [
       "2100.16"
      ]
     },
     "execution_count": 6,
     "metadata": {},
     "output_type": "execute_result"
    }
   ],
   "source": [
    "from bs4 import BeautifulSoup\n",
    "import re\n",
    "from functools import reduce\n",
    "def add(x,y):\n",
    "    return x+y\n",
    "\n",
    "def findTotalSum(n):\n",
    "    total_price=0\n",
    "    #Initial total price\n",
    "    for num in range(1,n+1):\n",
    "        #scrap page\n",
    "        data=requests.get('http://books.toscrape.com/catalogue/page-{}.html'.format(num))\n",
    "        soup = BeautifulSoup(data.text,'html.parser')\n",
    "        lista = soup.find_all('div',class_=\"product_price\")\n",
    "        price=''\n",
    "        for items in lista:\n",
    "            price+=str(items.find('p',class_=\"price_color\"))\n",
    "            pricetag=re.findall(r\"[Â£](\\d+.\\d+)\",price)\n",
    "            #Got string(prices) in list and convert into float\n",
    "            a=lambda x:float(x)\n",
    "            pricetag=map(a,pricetag)\n",
    "            #got float prices\n",
    "        total_price += reduce(add, list(pricetag))\n",
    "        #got total prices in n loop\n",
    "    return total_price\n",
    "findTotalSum(3)"
   ]
  }
 ],
 "metadata": {
  "kernelspec": {
   "display_name": "Python 3 (ipykernel)",
   "language": "python",
   "name": "python3"
  },
  "language_info": {
   "codemirror_mode": {
    "name": "ipython",
    "version": 3
   },
   "file_extension": ".py",
   "mimetype": "text/x-python",
   "name": "python",
   "nbconvert_exporter": "python",
   "pygments_lexer": "ipython3",
   "version": "3.8.8"
  }
 },
 "nbformat": 4,
 "nbformat_minor": 5
}
